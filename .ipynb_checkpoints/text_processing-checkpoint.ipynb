{
 "cells": [
  {
   "cell_type": "markdown",
   "metadata": {},
   "source": [
    "# Text Processing\n",
    "\n",
    "## Capturing Text Data\n",
    "\n",
    "### Plain Text"
   ]
  },
  {
   "cell_type": "code",
   "execution_count": 1,
   "metadata": {},
   "outputs": [
    {
     "name": "stdout",
     "output_type": "stream",
     "text": [
      "Hieroglyphic writing dates from c. 3000 BC, and is composed of hundreds of symbols. A hieroglyph can represent a word, a sound, or a silent determinative; and the same symbol can serve different purposes in different contexts. Hieroglyphs were a formal script, used on stone monuments and in tombs, that could be as detailed as individual works of art.\n",
      "\n"
     ]
    }
   ],
   "source": [
    "import os\n",
    "\n",
    "# Read in a plain text file\n",
    "with open(os.path.join(\"data\", \"hieroglyph.txt\"), \"r\") as f:\n",
    "    text = f.read()\n",
    "    print(text)"
   ]
  },
  {
   "cell_type": "markdown",
   "metadata": {},
   "source": [
    "### Tabular Data"
   ]
  },
  {
   "cell_type": "code",
   "execution_count": 2,
   "metadata": {
    "scrolled": true
   },
   "outputs": [
    {
     "data": {
      "text/html": [
       "<div>\n",
       "<style scoped>\n",
       "    .dataframe tbody tr th:only-of-type {\n",
       "        vertical-align: middle;\n",
       "    }\n",
       "\n",
       "    .dataframe tbody tr th {\n",
       "        vertical-align: top;\n",
       "    }\n",
       "\n",
       "    .dataframe thead th {\n",
       "        text-align: right;\n",
       "    }\n",
       "</style>\n",
       "<table border=\"1\" class=\"dataframe\">\n",
       "  <thead>\n",
       "    <tr style=\"text-align: right;\">\n",
       "      <th></th>\n",
       "      <th>publisher</th>\n",
       "      <th>title</th>\n",
       "    </tr>\n",
       "  </thead>\n",
       "  <tbody>\n",
       "    <tr>\n",
       "      <th>0</th>\n",
       "      <td>Livemint</td>\n",
       "      <td>fed's charles plosser sees high bar for change...</td>\n",
       "    </tr>\n",
       "    <tr>\n",
       "      <th>1</th>\n",
       "      <td>IFA Magazine</td>\n",
       "      <td>us open: stocks fall after fed official hints ...</td>\n",
       "    </tr>\n",
       "    <tr>\n",
       "      <th>2</th>\n",
       "      <td>IFA Magazine</td>\n",
       "      <td>fed risks falling 'behind the curve', charles ...</td>\n",
       "    </tr>\n",
       "    <tr>\n",
       "      <th>3</th>\n",
       "      <td>Moneynews</td>\n",
       "      <td>fed's plosser: nasty weather has curbed job gr...</td>\n",
       "    </tr>\n",
       "    <tr>\n",
       "      <th>4</th>\n",
       "      <td>NASDAQ</td>\n",
       "      <td>plosser: fed may have to accelerate tapering pace</td>\n",
       "    </tr>\n",
       "  </tbody>\n",
       "</table>\n",
       "</div>"
      ],
      "text/plain": [
       "      publisher                                              title\n",
       "0      Livemint  fed's charles plosser sees high bar for change...\n",
       "1  IFA Magazine  us open: stocks fall after fed official hints ...\n",
       "2  IFA Magazine  fed risks falling 'behind the curve', charles ...\n",
       "3     Moneynews  fed's plosser: nasty weather has curbed job gr...\n",
       "4        NASDAQ  plosser: fed may have to accelerate tapering pace"
      ]
     },
     "execution_count": 2,
     "metadata": {},
     "output_type": "execute_result"
    }
   ],
   "source": [
    "import pandas as pd\n",
    "\n",
    "# Extract text column from a dataframe\n",
    "df = pd.read_csv(os.path.join(\"data\", \"news.csv\"))\n",
    "df.head()[['publisher', 'title']]\n",
    "\n",
    "# Convert text column to lowercase\n",
    "df['title'] = df['title'].str.lower()\n",
    "df.head()[['publisher', 'title']]"
   ]
  },
  {
   "cell_type": "markdown",
   "metadata": {},
   "source": [
    "### Online Resource"
   ]
  },
  {
   "cell_type": "code",
   "execution_count": 3,
   "metadata": {
    "scrolled": true
   },
   "outputs": [
    {
     "name": "stdout",
     "output_type": "stream",
     "text": [
      "{\n",
      "    \"success\": {\n",
      "        \"total\": 1\n",
      "    },\n",
      "    \"contents\": {\n",
      "        \"quotes\": [\n",
      "            {\n",
      "                \"quote\": \"The worst thing about having power over other people\\u2019s lives is that you sometimes get things wrong.\",\n",
      "                \"author\": \"Fredrik Backman\",\n",
      "                \"length\": \"100\",\n",
      "                \"tags\": [],\n",
      "                \"category\": \"inspire\",\n",
      "                \"date\": \"2019-12-24\",\n",
      "                \"permalink\": \"https://theysaidso.com/quote/fredrik-backman-the-worst-thing-about-having-power-over-other-peoples-lives-is-t\",\n",
      "                \"title\": \"Inspiring Quote of the day\",\n",
      "                \"background\": \"https://theysaidso.com/img/bgs/man_on_the_mountain.jpg\",\n",
      "                \"id\": null\n",
      "            }\n",
      "        ],\n",
      "        \"copyright\": \"2017-19 theysaidso.com\"\n",
      "    }\n",
      "}\n",
      "The worst thing about having power over other people’s lives is that you sometimes get things wrong. \n",
      "-- Fredrik Backman\n"
     ]
    }
   ],
   "source": [
    "import requests\n",
    "import json\n",
    "\n",
    "# Fetch data from a REST API\n",
    "r = requests.get(\n",
    "    \"https://quotes.rest/qod.json\")\n",
    "res = r.json()\n",
    "print(json.dumps(res, indent=4))\n",
    "\n",
    "# Extract relevant object and field\n",
    "q = res[\"contents\"][\"quotes\"][0]\n",
    "print(q[\"quote\"], \"\\n--\", q[\"author\"])"
   ]
  },
  {
   "cell_type": "markdown",
   "metadata": {},
   "source": [
    "## Cleaning"
   ]
  },
  {
   "cell_type": "code",
   "execution_count": 4,
   "metadata": {
    "scrolled": true
   },
   "outputs": [
    {
     "name": "stdout",
     "output_type": "stream",
     "text": [
      "<html op=\"news\"><head><meta name=\"referrer\" content=\"origin\"><meta name=\"viewport\" content=\"width=device-width, initial-scale=1.0\"><link rel=\"stylesheet\" type=\"text/css\" href=\"news.css?XGnn1zBuBfbN8crgQ4vB\">\n",
      "        <link rel=\"shortcut icon\" href=\"favicon.ico\">\n",
      "          <link rel=\"alternate\" type=\"application/rss+xml\" title=\"RSS\" href=\"rss\">\n",
      "        <title>Hacker News</title></head><body><center><table id=\"hnmain\" border=\"0\" cellpadding=\"0\" cellspacing=\"0\" width=\"85%\" bgcolor=\"#f6f6ef\">\n",
      "        <tr><td bgcolor=\"#ff6600\"><table border=\"0\" cellpadding=\"0\" cellspacing=\"0\" width=\"100%\" style=\"padding:2px\"><tr><td style=\"width:18px;padding-right:4px\"><a href=\"https://news.ycombinator.com\"><img src=\"y18.gif\" width=\"18\" height=\"18\" style=\"border:1px white solid;\"></a></td>\n",
      "                  <td style=\"line-height:12pt; height:10px;\"><span class=\"pagetop\"><b class=\"hnname\"><a href=\"news\">Hacker News</a></b>\n",
      "              <a href=\"newest\">new</a> | <a href=\"front\">past</a> | <a href=\"newcomments\">comments</a> | <a href=\"ask\">ask</a> | <a href=\"show\">show</a> | <a href=\"jobs\">jobs</a> | <a href=\"submit\">submit</a>            </span></td><td style=\"text-align:right;padding-right:4px;\"><span class=\"pagetop\">\n",
      "                              <a href=\"login?goto=news\">login</a>\n",
      "                          </span></td>\n",
      "              </tr></table></td></tr>\n",
      "<tr id=\"pagespace\" title=\"\" style=\"height:10px\"></tr><tr><td><table border=\"0\" cellpadding=\"0\" cellspacing=\"0\" class=\"itemlist\">\n",
      "              <tr class='athing' id='21871026'>\n",
      "      <td align=\"right\" valign=\"top\" class=\"title\"><span class=\"rank\">1.</span></td>      <td valign=\"top\" class=\"votelinks\"><center><a id='up_21871026' href='vote?id=21871026&amp;how=up&amp;goto=news'><div class='votearrow' title='upvote'></div></a></center></td><td class=\"title\"><a href=\"https://www.thirtythreeforty.net/posts/2019/12/my-business-card-runs-linux/\" class=\"storylink\">My Business Card Runs Linux</a><span class=\"sitebit comhead\"> (<a href=\"from?site=thirtythreeforty.net\"><span class=\"sitestr\">thirtythreeforty.net</span></a>)</span></td></tr><tr><td colspan=\"2\"></td><td class=\"subtext\">\n",
      "        <span class=\"score\" id=\"score_21871026\">1183 points</span> by <a href=\"user?id=rcarmo\" class=\"hnuser\">rcarmo</a> <span class=\"age\"><a href=\"item?id=21871026\">7 hours ago</a></span> <span id=\"unv_21871026\"></span> | <a href=\"hide?id=21871026&amp;goto=news\">hide</a> | <a href=\"item?id=21871026\">192&nbsp;comments</a>              </td></tr>\n",
      "      <tr class=\"spacer\" style=\"height:5px\"></tr>\n",
      "                <tr class='athing' id='21873078'>\n",
      "      <td align=\"right\" valign=\"top\" class=\"title\"><span class=\"rank\">2.</span></td>      <td valign=\"top\" class=\"votelinks\"><center><a id='up_21873078' href='vote?id=21873078&amp;how=up&amp;goto=news'><div class='votearrow' title='upvote'></div></a></center></td><td class=\"title\"><a href=\"https://github.com/Hack-with-Github/Awesome-Hacking\" class=\"storylink\">A collection of various lists for hackers, pentesters and security researchers</a><span class=\"sitebit comhead\"> (<a href=\"from?site=github.com\"><span class=\"sitestr\">github.com</span></a>)</span></td></tr><tr><td colspan=\"2\"></td><td class=\"subtext\">\n",
      "        <span class=\"score\" id=\"score_21873078\">53 points</span> by <a href=\"user?id=axiomdata316\" class=\"hnuser\">axiomdata316</a> <span class=\"age\"><a href=\"item?id=21873078\">1 hour ago</a></span> <span id=\"unv_21873078\"></span> | <a href=\"hide?id=21873078&amp;goto=news\">hide</a> | <a href=\"item?id=21873078\">discuss</a>              </td></tr>\n",
      "      <tr class=\"spacer\" style=\"height:5px\"></tr>\n",
      "                <tr class='athing' id='21873040'>\n",
      "      <td align=\"right\" valign=\"top\" class=\"title\"><span class=\"rank\">3.</span></td>      <td valign=\"top\" class=\"votelinks\"><center><a id='up_21873040' href='vote?id=21873040&amp;how=up&amp;goto=news'><div class='votearrow' title='upvote'></div></a></center></td><td class=\"title\"><a href=\"https://www.kqed.org/mindshift/46188/why-multilingual-people-have-healthier-more-engaged-brains\" class=\"storylink\">Why Multilingual People Have Healthier, More Engaged Brains (2016)</a><span class=\"sitebit comhead\"> (<a href=\"from?site=kqed.org\"><span class=\"sitestr\">kqed.org</span></a>)</span></td></tr><tr><td colspan=\"2\"></td><td class=\"subtext\">\n",
      "        <span class=\"score\" id=\"score_21873040\">40 points</span> by <a href=\"user?id=respinal\" class=\"hnuser\">respinal</a> <span class=\"age\"><a href=\"item?id=21873040\">1 hour ago</a></span> <span id=\"unv_21873040\"></span> | <a href=\"hide?id=21873040&amp;goto=news\">hide</a> | <a href=\"item?id=21873040\">18&nbsp;comments</a>              </td></tr>\n",
      "      <tr class=\"spacer\" style=\"height:5px\"></tr>\n",
      "                <tr class='athing' id='21872216'>\n",
      "      <td align=\"right\" valign=\"top\" class=\"title\"><span class=\"rank\">4.</span></td>      <td valign=\"top\" class=\"votelinks\"><center><a id='up_21872216' href='vote?id=21872216&amp;how=up&amp;goto=news'><div class='votearrow' title='upvote'></div></a></center></td><td class=\"title\"><a href=\"https://techcrunch.com/2019/12/24/uber-founder-travis-kalanick-is-leaving-the-companys-board-of-directors/\" class=\"storylink\">Uber Founder Travis Kalanick Is Leaving the Company’s Board of Directors</a><span class=\"sitebit comhead\"> (<a href=\"from?site=techcrunch.com\"><span class=\"sitestr\">techcrunch.com</span></a>)</span></td></tr><tr><td colspan=\"2\"></td><td class=\"subtext\">\n",
      "        <span class=\"score\" id=\"score_21872216\">104 points</span> by <a href=\"user?id=theBashShell\" class=\"hnuser\">theBashShell</a> <span class=\"age\"><a href=\"item?id=21872216\">3 hours ago</a></span> <span id=\"unv_21872216\"></span> | <a href=\"hide?id=21872216&amp;goto=news\">hide</a> | <a href=\"item?id=21872216\">57&nbsp;comments</a>              </td></tr>\n",
      "      <tr class=\"spacer\" style=\"height:5px\"></tr>\n",
      "                <tr class='athing' id='21871491'>\n",
      "      <td align=\"right\" valign=\"top\" class=\"title\"><span class=\"rank\">5.</span></td>      <td valign=\"top\" class=\"votelinks\"><center><a id='up_21871491' href='vote?id=21871491&amp;how=up&amp;goto=news'><div class='votearrow' title='upvote'></div></a></center></td><td class=\"title\"><a href=\"https://volument.com/blog/minimalism-the-most-undervalued-development-skill\" class=\"storylink\">Minimalism – An undervalued development skill</a><span class=\"sitebit comhead\"> (<a href=\"from?site=volument.com\"><span class=\"sitestr\">volument.com</span></a>)</span></td></tr><tr><td colspan=\"2\"></td><td class=\"subtext\">\n",
      "        <span class=\"score\" id=\"score_21871491\">204 points</span> by <a href=\"user?id=tipiirai\" class=\"hnuser\">tipiirai</a> <span class=\"age\"><a href=\"item?id=21871491\">5 hours ago</a></span> <span id=\"unv_21871491\"></span> | <a href=\"hide?id=21871491&amp;goto=news\">hide</a> | <a href=\"item?id=21871491\">72&nbsp;comments</a>              </td></tr>\n",
      "      <tr class=\"spacer\" style=\"height:5px\"></tr>\n",
      "                <tr class='athing' id='21873229'>\n",
      "      <td align=\"right\" valign=\"top\" class=\"title\"><span class=\"rank\">6.</span></td>      <td valign=\"top\" class=\"votelinks\"><center><a id='up_21873229' href='vote?id=21873229&amp;how=up&amp;goto=news'><div class='votearrow' title='upvote'></div></a></center></td><td class=\"title\"><a href=\"https://techcrunch.com/2019/12/24/twitter-android-bug-phone-numbers/\" class=\"storylink\">A Twitter app bug was used to match 17M phone numbers to user accounts</a><span class=\"sitebit comhead\"> (<a href=\"from?site=techcrunch.com\"><span class=\"sitestr\">techcrunch.com</span></a>)</span></td></tr><tr><td colspan=\"2\"></td><td class=\"subtext\">\n",
      "        <span class=\"score\" id=\"score_21873229\">17 points</span> by <a href=\"user?id=kkm\" class=\"hnuser\">kkm</a> <span class=\"age\"><a href=\"item?id=21873229\">1 hour ago</a></span> <span id=\"unv_21873229\"></span> | <a href=\"hide?id=21873229&amp;goto=news\">hide</a> | <a href=\"item?id=21873229\">4&nbsp;comments</a>              </td></tr>\n",
      "      <tr class=\"spacer\" style=\"height:5px\"></tr>\n",
      "                <tr class='athing' id='21871796'>\n",
      "      <td align=\"right\" valign=\"top\" class=\"title\"><span class=\"rank\">7.</span></td>      <td valign=\"top\" class=\"votelinks\"><center><a id='up_21871796' href='vote?id=21871796&amp;how=up&amp;goto=news'><div class='votearrow' title='upvote'></div></a></center></td><td class=\"title\"><a href=\"https://blog.jonlu.ca/posts/aa-tracker\" class=\"storylink\">Flight stats, entertainment, and trying to crack Widevine</a><span class=\"sitebit comhead\"> (<a href=\"from?site=jonlu.ca\"><span class=\"sitestr\">jonlu.ca</span></a>)</span></td></tr><tr><td colspan=\"2\"></td><td class=\"subtext\">\n",
      "        <span class=\"score\" id=\"score_21871796\">77 points</span> by <a href=\"user?id=jonluca\" class=\"hnuser\">jonluca</a> <span class=\"age\"><a href=\"item?id=21871796\">4 hours ago</a></span> <span id=\"unv_21871796\"></span> | <a href=\"hide?id=21871796&amp;goto=news\">hide</a> | <a href=\"item?id=21871796\">37&nbsp;comments</a>              </td></tr>\n",
      "      <tr class=\"spacer\" style=\"height:5px\"></tr>\n",
      "                <tr class='athing' id='21873337'>\n",
      "      <td align=\"right\" valign=\"top\" class=\"title\"><span class=\"rank\">8.</span></td>      <td valign=\"top\" class=\"votelinks\"><center><a id='up_21873337' href='vote?id=21873337&amp;how=up&amp;goto=news'><div class='votearrow' title='upvote'></div></a></center></td><td class=\"title\"><a href=\"https://blog.timescale.com/blog/open-source-demise-of-proprietary-software-a49f73f54165/\" class=\"storylink\">Open-source and the demise of proprietary software</a><span class=\"sitebit comhead\"> (<a href=\"from?site=timescale.com\"><span class=\"sitestr\">timescale.com</span></a>)</span></td></tr><tr><td colspan=\"2\"></td><td class=\"subtext\">\n",
      "        <span class=\"score\" id=\"score_21873337\">9 points</span> by <a href=\"user?id=akulkarni\" class=\"hnuser\">akulkarni</a> <span class=\"age\"><a href=\"item?id=21873337\">45 minutes ago</a></span> <span id=\"unv_21873337\"></span> | <a href=\"hide?id=21873337&amp;goto=news\">hide</a> | <a href=\"item?id=21873337\">1&nbsp;comment</a>              </td></tr>\n",
      "      <tr class=\"spacer\" style=\"height:5px\"></tr>\n",
      "                <tr class='athing' id='21871645'>\n",
      "      <td align=\"right\" valign=\"top\" class=\"title\"><span class=\"rank\">9.</span></td>      <td valign=\"top\" class=\"votelinks\"><center><a id='up_21871645' href='vote?id=21871645&amp;how=up&amp;goto=news'><div class='votearrow' title='upvote'></div></a></center></td><td class=\"title\"><a href=\"http://macias.info/entry/201912201300_graal_aot.md\" class=\"storylink\">Java JIT vs. Java AOT vs. Go for Small, Short-Lived Processes</a><span class=\"sitebit comhead\"> (<a href=\"from?site=macias.info\"><span class=\"sitestr\">macias.info</span></a>)</span></td></tr><tr><td colspan=\"2\"></td><td class=\"subtext\">\n",
      "        <span class=\"score\" id=\"score_21871645\">79 points</span> by <a href=\"user?id=robfig\" class=\"hnuser\">robfig</a> <span class=\"age\"><a href=\"item?id=21871645\">5 hours ago</a></span> <span id=\"unv_21871645\"></span> | <a href=\"hide?id=21871645&amp;goto=news\">hide</a> | <a href=\"item?id=21871645\">44&nbsp;comments</a>              </td></tr>\n",
      "      <tr class=\"spacer\" style=\"height:5px\"></tr>\n",
      "                <tr class='athing' id='21872222'>\n",
      "      <td align=\"right\" valign=\"top\" class=\"title\"><span class=\"rank\">10.</span></td>      <td valign=\"top\" class=\"votelinks\"><center><a id='up_21872222' href='vote?id=21872222&amp;how=up&amp;goto=news'><div class='votearrow' title='upvote'></div></a></center></td><td class=\"title\"><a href=\"https://thomasvilhena.com/2019/12/stock-option-pricing-inference\" class=\"storylink\">Stock Option Pricing Inference</a><span class=\"sitebit comhead\"> (<a href=\"from?site=thomasvilhena.com\"><span class=\"sitestr\">thomasvilhena.com</span></a>)</span></td></tr><tr><td colspan=\"2\"></td><td class=\"subtext\">\n",
      "        <span class=\"score\" id=\"score_21872222\">39 points</span> by <a href=\"user?id=tcgv\" class=\"hnuser\">tcgv</a> <span class=\"age\"><a href=\"item?id=21872222\">3 hours ago</a></span> <span id=\"unv_21872222\"></span> | <a href=\"hide?id=21872222&amp;goto=news\">hide</a> | <a href=\"item?id=21872222\">6&nbsp;comments</a>              </td></tr>\n",
      "      <tr class=\"spacer\" style=\"height:5px\"></tr>\n",
      "                <tr class='athing' id='21867015'>\n",
      "      <td align=\"right\" valign=\"top\" class=\"title\"><span class=\"rank\">11.</span></td>      <td valign=\"top\" class=\"votelinks\"><center><a id='up_21867015' href='vote?id=21867015&amp;how=up&amp;goto=news'><div class='votearrow' title='upvote'></div></a></center></td><td class=\"title\"><a href=\"https://www.nytimes.com/2019/12/23/business/overnight-train-austria.html\" class=\"storylink\">The Nightjet: A Big Bet on Train Travelers Who Take It Slow</a><span class=\"sitebit comhead\"> (<a href=\"from?site=nytimes.com\"><span class=\"sitestr\">nytimes.com</span></a>)</span></td></tr><tr><td colspan=\"2\"></td><td class=\"subtext\">\n",
      "        <span class=\"score\" id=\"score_21867015\">14 points</span> by <a href=\"user?id=CaliforniaKarl\" class=\"hnuser\">CaliforniaKarl</a> <span class=\"age\"><a href=\"item?id=21867015\">1 hour ago</a></span> <span id=\"unv_21867015\"></span> | <a href=\"hide?id=21867015&amp;goto=news\">hide</a> | <a href=\"item?id=21867015\">11&nbsp;comments</a>              </td></tr>\n",
      "      <tr class=\"spacer\" style=\"height:5px\"></tr>\n",
      "                <tr class='athing' id='21870089'>\n",
      "      <td align=\"right\" valign=\"top\" class=\"title\"><span class=\"rank\">12.</span></td>      <td valign=\"top\" class=\"votelinks\"><center><a id='up_21870089' href='vote?id=21870089&amp;how=up&amp;goto=news'><div class='votearrow' title='upvote'></div></a></center></td><td class=\"title\"><a href=\"https://increment.com/testing/what-broke-the-bank/\" class=\"storylink\">A disastrous IT migration corrupted 1.3B customer records</a><span class=\"sitebit comhead\"> (<a href=\"from?site=increment.com\"><span class=\"sitestr\">increment.com</span></a>)</span></td></tr><tr><td colspan=\"2\"></td><td class=\"subtext\">\n",
      "        <span class=\"score\" id=\"score_21870089\">263 points</span> by <a href=\"user?id=fagnerbrack\" class=\"hnuser\">fagnerbrack</a> <span class=\"age\"><a href=\"item?id=21870089\">12 hours ago</a></span> <span id=\"unv_21870089\"></span> | <a href=\"hide?id=21870089&amp;goto=news\">hide</a> | <a href=\"item?id=21870089\">153&nbsp;comments</a>              </td></tr>\n",
      "      <tr class=\"spacer\" style=\"height:5px\"></tr>\n",
      "                <tr class='athing' id='21871514'>\n",
      "      <td align=\"right\" valign=\"top\" class=\"title\"><span class=\"rank\">13.</span></td>      <td valign=\"top\" class=\"votelinks\"><center><a id='up_21871514' href='vote?id=21871514&amp;how=up&amp;goto=news'><div class='votearrow' title='upvote'></div></a></center></td><td class=\"title\"><a href=\"http://reasonablypolymorphic.com/blog/protos-are-wrong/index.html\" class=\"storylink\">Protobuffers Are Wrong</a><span class=\"sitebit comhead\"> (<a href=\"from?site=reasonablypolymorphic.com\"><span class=\"sitestr\">reasonablypolymorphic.com</span></a>)</span></td></tr><tr><td colspan=\"2\"></td><td class=\"subtext\">\n",
      "        <span class=\"score\" id=\"score_21871514\">118 points</span> by <a href=\"user?id=based2\" class=\"hnuser\">based2</a> <span class=\"age\"><a href=\"item?id=21871514\">5 hours ago</a></span> <span id=\"unv_21871514\"></span> | <a href=\"hide?id=21871514&amp;goto=news\">hide</a> | <a href=\"item?id=21871514\">99&nbsp;comments</a>              </td></tr>\n",
      "      <tr class=\"spacer\" style=\"height:5px\"></tr>\n",
      "                <tr class='athing' id='21872583'>\n",
      "      <td align=\"right\" valign=\"top\" class=\"title\"><span class=\"rank\">14.</span></td>      <td valign=\"top\" class=\"votelinks\"><center><a id='up_21872583' href='vote?id=21872583&amp;how=up&amp;goto=news'><div class='votearrow' title='upvote'></div></a></center></td><td class=\"title\"><a href=\"https://www.maastrichtuniversity.nl/news/cyber-attack-against-um\" class=\"storylink\">Dutch university hit by cyber attack on its Windows systems</a><span class=\"sitebit comhead\"> (<a href=\"from?site=maastrichtuniversity.nl\"><span class=\"sitestr\">maastrichtuniversity.nl</span></a>)</span></td></tr><tr><td colspan=\"2\"></td><td class=\"subtext\">\n",
      "        <span class=\"score\" id=\"score_21872583\">21 points</span> by <a href=\"user?id=stepri\" class=\"hnuser\">stepri</a> <span class=\"age\"><a href=\"item?id=21872583\">2 hours ago</a></span> <span id=\"unv_21872583\"></span> | <a href=\"hide?id=21872583&amp;goto=news\">hide</a> | <a href=\"item?id=21872583\">19&nbsp;comments</a>              </td></tr>\n",
      "      <tr class=\"spacer\" style=\"height:5px\"></tr>\n",
      "                <tr class='athing' id='21869602'>\n",
      "      <td align=\"right\" valign=\"top\" class=\"title\"><span class=\"rank\">15.</span></td>      <td valign=\"top\" class=\"votelinks\"><center><a id='up_21869602' href='vote?id=21869602&amp;how=up&amp;goto=news'><div class='votearrow' title='upvote'></div></a></center></td><td class=\"title\"><a href=\"https://www.theatlantic.com/health/archive/2014/06/can-shoes-help-prevent-running-injuries/371517/\" class=\"storylink\">Why Aren't Shoes Preventing Running Injuries?</a><span class=\"sitebit comhead\"> (<a href=\"from?site=theatlantic.com\"><span class=\"sitestr\">theatlantic.com</span></a>)</span></td></tr><tr><td colspan=\"2\"></td><td class=\"subtext\">\n",
      "        <span class=\"score\" id=\"score_21869602\">39 points</span> by <a href=\"user?id=luu\" class=\"hnuser\">luu</a> <span class=\"age\"><a href=\"item?id=21869602\">5 hours ago</a></span> <span id=\"unv_21869602\"></span> | <a href=\"hide?id=21869602&amp;goto=news\">hide</a> | <a href=\"item?id=21869602\">16&nbsp;comments</a>              </td></tr>\n",
      "      <tr class=\"spacer\" style=\"height:5px\"></tr>\n",
      "                <tr class='athing' id='21871862'>\n",
      "      <td align=\"right\" valign=\"top\" class=\"title\"><span class=\"rank\">16.</span></td>      <td valign=\"top\" class=\"votelinks\"><center><a id='up_21871862' href='vote?id=21871862&amp;how=up&amp;goto=news'><div class='votearrow' title='upvote'></div></a></center></td><td class=\"title\"><a href=\"https://phys.org/news/2019-12-discoveries-reveal-geology-planets-solar.html\" class=\"storylink\">New discoveries set to reveal the geology of planets outside our solar system</a><span class=\"sitebit comhead\"> (<a href=\"from?site=phys.org\"><span class=\"sitestr\">phys.org</span></a>)</span></td></tr><tr><td colspan=\"2\"></td><td class=\"subtext\">\n",
      "        <span class=\"score\" id=\"score_21871862\">20 points</span> by <a href=\"user?id=dnetesn\" class=\"hnuser\">dnetesn</a> <span class=\"age\"><a href=\"item?id=21871862\">4 hours ago</a></span> <span id=\"unv_21871862\"></span> | <a href=\"hide?id=21871862&amp;goto=news\">hide</a> | <a href=\"item?id=21871862\">3&nbsp;comments</a>              </td></tr>\n",
      "      <tr class=\"spacer\" style=\"height:5px\"></tr>\n",
      "                <tr class='athing' id='21872358'>\n",
      "      <td align=\"right\" valign=\"top\" class=\"title\"><span class=\"rank\">17.</span></td>      <td valign=\"top\" class=\"votelinks\"><center><a id='up_21872358' href='vote?id=21872358&amp;how=up&amp;goto=news'><div class='votearrow' title='upvote'></div></a></center></td><td class=\"title\"><a href=\"https://www.youtube.com/watch?v=Tnu_Ws7Llo4\" class=\"storylink\">A Breakthrough in Graph Theory – Numberphile [video]</a><span class=\"sitebit comhead\"> (<a href=\"from?site=youtube.com\"><span class=\"sitestr\">youtube.com</span></a>)</span></td></tr><tr><td colspan=\"2\"></td><td class=\"subtext\">\n",
      "        <span class=\"score\" id=\"score_21872358\">73 points</span> by <a href=\"user?id=kgwxd\" class=\"hnuser\">kgwxd</a> <span class=\"age\"><a href=\"item?id=21872358\">3 hours ago</a></span> <span id=\"unv_21872358\"></span> | <a href=\"hide?id=21872358&amp;goto=news\">hide</a> | <a href=\"item?id=21872358\">9&nbsp;comments</a>              </td></tr>\n",
      "      <tr class=\"spacer\" style=\"height:5px\"></tr>\n",
      "                <tr class='athing' id='21872907'>\n",
      "      <td align=\"right\" valign=\"top\" class=\"title\"><span class=\"rank\">18.</span></td>      <td></td><td class=\"title\"><a href=\"https://jobs.lever.co/givecampus\" class=\"storylink\" rel=\"nofollow\">GiveCampus (YC S15) Is Hiring Engineers and Product in DC and SF</a><span class=\"sitebit comhead\"> (<a href=\"from?site=lever.co\"><span class=\"sitestr\">lever.co</span></a>)</span></td></tr><tr><td colspan=\"2\"></td><td class=\"subtext\">\n",
      "        <span class=\"age\"><a href=\"item?id=21872907\">1 hour ago</a></span> | <a href=\"hide?id=21872907&amp;goto=news\">hide</a>      </td></tr>\n",
      "      <tr class=\"spacer\" style=\"height:5px\"></tr>\n",
      "                <tr class='athing' id='21856809'>\n",
      "      <td align=\"right\" valign=\"top\" class=\"title\"><span class=\"rank\">19.</span></td>      <td valign=\"top\" class=\"votelinks\"><center><a id='up_21856809' href='vote?id=21856809&amp;how=up&amp;goto=news'><div class='votearrow' title='upvote'></div></a></center></td><td class=\"title\"><a href=\"https://slideslive.com/38921495/how-to-know\" class=\"storylink\">Things everyone in ML should know about belief formation in humans [video]</a><span class=\"sitebit comhead\"> (<a href=\"from?site=slideslive.com\"><span class=\"sitestr\">slideslive.com</span></a>)</span></td></tr><tr><td colspan=\"2\"></td><td class=\"subtext\">\n",
      "        <span class=\"score\" id=\"score_21856809\">200 points</span> by <a href=\"user?id=scribu\" class=\"hnuser\">scribu</a> <span class=\"age\"><a href=\"item?id=21856809\">14 hours ago</a></span> <span id=\"unv_21856809\"></span> | <a href=\"hide?id=21856809&amp;goto=news\">hide</a> | <a href=\"item?id=21856809\">22&nbsp;comments</a>              </td></tr>\n",
      "      <tr class=\"spacer\" style=\"height:5px\"></tr>\n",
      "                <tr class='athing' id='21873318'>\n",
      "      <td align=\"right\" valign=\"top\" class=\"title\"><span class=\"rank\">20.</span></td>      <td valign=\"top\" class=\"votelinks\"><center><a id='up_21873318' href='vote?id=21873318&amp;how=up&amp;goto=news'><div class='votearrow' title='upvote'></div></a></center></td><td class=\"title\"><a href=\"https://www.theguardian.com/cities/2019/dec/23/advertising-breaks-your-spirit-the-french-cities-trying-to-ban-public-adverts\" class=\"storylink\">'Advertising breaks your spirit': the French cities trying to ban public adverts</a><span class=\"sitebit comhead\"> (<a href=\"from?site=theguardian.com\"><span class=\"sitestr\">theguardian.com</span></a>)</span></td></tr><tr><td colspan=\"2\"></td><td class=\"subtext\">\n",
      "        <span class=\"score\" id=\"score_21873318\">20 points</span> by <a href=\"user?id=Vinnl\" class=\"hnuser\">Vinnl</a> <span class=\"age\"><a href=\"item?id=21873318\">48 minutes ago</a></span> <span id=\"unv_21873318\"></span> | <a href=\"hide?id=21873318&amp;goto=news\">hide</a> | <a href=\"item?id=21873318\">5&nbsp;comments</a>              </td></tr>\n",
      "      <tr class=\"spacer\" style=\"height:5px\"></tr>\n",
      "                <tr class='athing' id='21871017'>\n",
      "      <td align=\"right\" valign=\"top\" class=\"title\"><span class=\"rank\">21.</span></td>      <td valign=\"top\" class=\"votelinks\"><center><a id='up_21871017' href='vote?id=21871017&amp;how=up&amp;goto=news'><div class='votearrow' title='upvote'></div></a></center></td><td class=\"title\"><a href=\"https://news.usc.edu/164317/cannabis-health-social-media-bots-fake-claims/\" class=\"storylink\">Social media bots often tweet fake health claims about cannabis</a><span class=\"sitebit comhead\"> (<a href=\"from?site=usc.edu\"><span class=\"sitestr\">usc.edu</span></a>)</span></td></tr><tr><td colspan=\"2\"></td><td class=\"subtext\">\n",
      "        <span class=\"score\" id=\"score_21871017\">79 points</span> by <a href=\"user?id=happy-go-lucky\" class=\"hnuser\">happy-go-lucky</a> <span class=\"age\"><a href=\"item?id=21871017\">7 hours ago</a></span> <span id=\"unv_21871017\"></span> | <a href=\"hide?id=21871017&amp;goto=news\">hide</a> | <a href=\"item?id=21871017\">82&nbsp;comments</a>              </td></tr>\n",
      "      <tr class=\"spacer\" style=\"height:5px\"></tr>\n",
      "                <tr class='athing' id='21870095'>\n",
      "      <td align=\"right\" valign=\"top\" class=\"title\"><span class=\"rank\">22.</span></td>      <td valign=\"top\" class=\"votelinks\"><center><a id='up_21870095' href='vote?id=21870095&amp;how=up&amp;goto=news'><div class='votearrow' title='upvote'></div></a></center></td><td class=\"title\"><a href=\"https://www.laphamsquarterly.org/roundtable/strange-properties-and-histories-magic-hat\" class=\"storylink\">The Strange Properties and Histories of the Magic Hat</a><span class=\"sitebit comhead\"> (<a href=\"from?site=laphamsquarterly.org\"><span class=\"sitestr\">laphamsquarterly.org</span></a>)</span></td></tr><tr><td colspan=\"2\"></td><td class=\"subtext\">\n",
      "        <span class=\"score\" id=\"score_21870095\">21 points</span> by <a href=\"user?id=pepys\" class=\"hnuser\">pepys</a> <span class=\"age\"><a href=\"item?id=21870095\">4 hours ago</a></span> <span id=\"unv_21870095\"></span> | <a href=\"hide?id=21870095&amp;goto=news\">hide</a> | <a href=\"item?id=21870095\">1&nbsp;comment</a>              </td></tr>\n",
      "      <tr class=\"spacer\" style=\"height:5px\"></tr>\n",
      "                <tr class='athing' id='21873066'>\n",
      "      <td align=\"right\" valign=\"top\" class=\"title\"><span class=\"rank\">23.</span></td>      <td valign=\"top\" class=\"votelinks\"><center><a id='up_21873066' href='vote?id=21873066&amp;how=up&amp;goto=news'><div class='votearrow' title='upvote'></div></a></center></td><td class=\"title\"><a href=\"https://raphlinus.github.io/graphics/curves/2019/12/23/flatten-quadbez.html\" class=\"storylink\" rel=\"nofollow\">Flattening Quadratic Béziers</a><span class=\"sitebit comhead\"> (<a href=\"from?site=raphlinus.github.io\"><span class=\"sitestr\">raphlinus.github.io</span></a>)</span></td></tr><tr><td colspan=\"2\"></td><td class=\"subtext\">\n",
      "        <span class=\"score\" id=\"score_21873066\">5 points</span> by <a href=\"user?id=jwmerrill\" class=\"hnuser\">jwmerrill</a> <span class=\"age\"><a href=\"item?id=21873066\">1 hour ago</a></span> <span id=\"unv_21873066\"></span> | <a href=\"hide?id=21873066&amp;goto=news\">hide</a> | <a href=\"item?id=21873066\">discuss</a>              </td></tr>\n",
      "      <tr class=\"spacer\" style=\"height:5px\"></tr>\n",
      "                <tr class='athing' id='21866727'>\n",
      "      <td align=\"right\" valign=\"top\" class=\"title\"><span class=\"rank\">24.</span></td>      <td valign=\"top\" class=\"votelinks\"><center><a id='up_21866727' href='vote?id=21866727&amp;how=up&amp;goto=news'><div class='votearrow' title='upvote'></div></a></center></td><td class=\"title\"><a href=\"https://www.dezeen.com/2019/12/22/apis-cor-worlds-largest-3d-printed-building-dubai/\" class=\"storylink\">Apis Cor builds world's largest 3D-printed building in Dubai</a><span class=\"sitebit comhead\"> (<a href=\"from?site=dezeen.com\"><span class=\"sitestr\">dezeen.com</span></a>)</span></td></tr><tr><td colspan=\"2\"></td><td class=\"subtext\">\n",
      "        <span class=\"score\" id=\"score_21866727\">19 points</span> by <a href=\"user?id=lelf\" class=\"hnuser\">lelf</a> <span class=\"age\"><a href=\"item?id=21866727\">5 hours ago</a></span> <span id=\"unv_21866727\"></span> | <a href=\"hide?id=21866727&amp;goto=news\">hide</a> | <a href=\"item?id=21866727\">10&nbsp;comments</a>              </td></tr>\n",
      "      <tr class=\"spacer\" style=\"height:5px\"></tr>\n",
      "                <tr class='athing' id='21872125'>\n",
      "      <td align=\"right\" valign=\"top\" class=\"title\"><span class=\"rank\">25.</span></td>      <td valign=\"top\" class=\"votelinks\"><center><a id='up_21872125' href='vote?id=21872125&amp;how=up&amp;goto=news'><div class='votearrow' title='upvote'></div></a></center></td><td class=\"title\"><a href=\"https://mathwithbaddrawings.com/2019/03/20/the-historical-evidence-that-galileo-was-a-hack/\" class=\"storylink\">The Case Against Galileo</a><span class=\"sitebit comhead\"> (<a href=\"from?site=mathwithbaddrawings.com\"><span class=\"sitestr\">mathwithbaddrawings.com</span></a>)</span></td></tr><tr><td colspan=\"2\"></td><td class=\"subtext\">\n",
      "        <span class=\"score\" id=\"score_21872125\">12 points</span> by <a href=\"user?id=vo2maxer\" class=\"hnuser\">vo2maxer</a> <span class=\"age\"><a href=\"item?id=21872125\">3 hours ago</a></span> <span id=\"unv_21872125\"></span> | <a href=\"hide?id=21872125&amp;goto=news\">hide</a> | <a href=\"item?id=21872125\">discuss</a>              </td></tr>\n",
      "      <tr class=\"spacer\" style=\"height:5px\"></tr>\n",
      "                <tr class='athing' id='21872308'>\n",
      "      <td align=\"right\" valign=\"top\" class=\"title\"><span class=\"rank\">26.</span></td>      <td valign=\"top\" class=\"votelinks\"><center><a id='up_21872308' href='vote?id=21872308&amp;how=up&amp;goto=news'><div class='votearrow' title='upvote'></div></a></center></td><td class=\"title\"><a href=\"https://www.bbc.com/news/technology-50902496\" class=\"storylink\">Russia 'successfully tests' its unplugged internet</a><span class=\"sitebit comhead\"> (<a href=\"from?site=bbc.com\"><span class=\"sitestr\">bbc.com</span></a>)</span></td></tr><tr><td colspan=\"2\"></td><td class=\"subtext\">\n",
      "        <span class=\"score\" id=\"score_21872308\">57 points</span> by <a href=\"user?id=alexanderdmitri\" class=\"hnuser\">alexanderdmitri</a> <span class=\"age\"><a href=\"item?id=21872308\">3 hours ago</a></span> <span id=\"unv_21872308\"></span> | <a href=\"hide?id=21872308&amp;goto=news\">hide</a> | <a href=\"item?id=21872308\">31&nbsp;comments</a>              </td></tr>\n",
      "      <tr class=\"spacer\" style=\"height:5px\"></tr>\n",
      "                <tr class='athing' id='21850831'>\n",
      "      <td align=\"right\" valign=\"top\" class=\"title\"><span class=\"rank\">27.</span></td>      <td valign=\"top\" class=\"votelinks\"><center><a id='up_21850831' href='vote?id=21850831&amp;how=up&amp;goto=news'><div class='votearrow' title='upvote'></div></a></center></td><td class=\"title\"><a href=\"https://www.latimes.com/business/story/2019-12-19/boeing-spacex-spacecraft-parachutes\" class=\"storylink\">Building a parachute is boggling</a><span class=\"sitebit comhead\"> (<a href=\"from?site=latimes.com\"><span class=\"sitestr\">latimes.com</span></a>)</span></td></tr><tr><td colspan=\"2\"></td><td class=\"subtext\">\n",
      "        <span class=\"score\" id=\"score_21850831\">72 points</span> by <a href=\"user?id=pseudolus\" class=\"hnuser\">pseudolus</a> <span class=\"age\"><a href=\"item?id=21850831\">12 hours ago</a></span> <span id=\"unv_21850831\"></span> | <a href=\"hide?id=21850831&amp;goto=news\">hide</a> | <a href=\"item?id=21850831\">11&nbsp;comments</a>              </td></tr>\n",
      "      <tr class=\"spacer\" style=\"height:5px\"></tr>\n",
      "                <tr class='athing' id='21871247'>\n",
      "      <td align=\"right\" valign=\"top\" class=\"title\"><span class=\"rank\">28.</span></td>      <td valign=\"top\" class=\"votelinks\"><center><a id='up_21871247' href='vote?id=21871247&amp;how=up&amp;goto=news'><div class='votearrow' title='upvote'></div></a></center></td><td class=\"title\"><a href=\"https://www.bloomberg.com/news/articles/2019-12-24/bushfires-release-over-half-australia-s-annual-carbon-emissions\" class=\"storylink\">Bushfires Release over Half Australia’s Annual Carbon Emissions</a><span class=\"sitebit comhead\"> (<a href=\"from?site=bloomberg.com\"><span class=\"sitestr\">bloomberg.com</span></a>)</span></td></tr><tr><td colspan=\"2\"></td><td class=\"subtext\">\n",
      "        <span class=\"score\" id=\"score_21871247\">61 points</span> by <a href=\"user?id=pseudolus\" class=\"hnuser\">pseudolus</a> <span class=\"age\"><a href=\"item?id=21871247\">6 hours ago</a></span> <span id=\"unv_21871247\"></span> | <a href=\"hide?id=21871247&amp;goto=news\">hide</a> | <a href=\"item?id=21871247\">29&nbsp;comments</a>              </td></tr>\n",
      "      <tr class=\"spacer\" style=\"height:5px\"></tr>\n",
      "                <tr class='athing' id='21870906'>\n",
      "      <td align=\"right\" valign=\"top\" class=\"title\"><span class=\"rank\">29.</span></td>      <td valign=\"top\" class=\"votelinks\"><center><a id='up_21870906' href='vote?id=21870906&amp;how=up&amp;goto=news'><div class='votearrow' title='upvote'></div></a></center></td><td class=\"title\"><a href=\"https://www.latimes.com/projects/marshall-islands-nuclear-testing-sea-level-rise/\" class=\"storylink\">How the U.S. betrayed the Marshall Islands, kindling the next nuclear disaster</a><span class=\"sitebit comhead\"> (<a href=\"from?site=latimes.com\"><span class=\"sitestr\">latimes.com</span></a>)</span></td></tr><tr><td colspan=\"2\"></td><td class=\"subtext\">\n",
      "        <span class=\"score\" id=\"score_21870906\">152 points</span> by <a href=\"user?id=DyslexicAtheist\" class=\"hnuser\">DyslexicAtheist</a> <span class=\"age\"><a href=\"item?id=21870906\">8 hours ago</a></span> <span id=\"unv_21870906\"></span> | <a href=\"hide?id=21870906&amp;goto=news\">hide</a> | <a href=\"item?id=21870906\">56&nbsp;comments</a>              </td></tr>\n",
      "      <tr class=\"spacer\" style=\"height:5px\"></tr>\n",
      "                <tr class='athing' id='21870800'>\n",
      "      <td align=\"right\" valign=\"top\" class=\"title\"><span class=\"rank\">30.</span></td>      <td valign=\"top\" class=\"votelinks\"><center><a id='up_21870800' href='vote?id=21870800&amp;how=up&amp;goto=news'><div class='votearrow' title='upvote'></div></a></center></td><td class=\"title\"><a href=\"https://a16z.com/2014/07/22/how-to-ruin-your-company-with-one-bad-process/\" class=\"storylink\">How to Ruin a Company with One Bad Process (2014)</a><span class=\"sitebit comhead\"> (<a href=\"from?site=a16z.com\"><span class=\"sitestr\">a16z.com</span></a>)</span></td></tr><tr><td colspan=\"2\"></td><td class=\"subtext\">\n",
      "        <span class=\"score\" id=\"score_21870800\">88 points</span> by <a href=\"user?id=mooreds\" class=\"hnuser\">mooreds</a> <span class=\"age\"><a href=\"item?id=21870800\">8 hours ago</a></span> <span id=\"unv_21870800\"></span> | <a href=\"hide?id=21870800&amp;goto=news\">hide</a> | <a href=\"item?id=21870800\">13&nbsp;comments</a>              </td></tr>\n",
      "      <tr class=\"spacer\" style=\"height:5px\"></tr>\n",
      "            <tr class=\"morespace\" style=\"height:10px\"></tr><tr><td colspan=\"2\"></td><td class=\"title\"><a href=\"news?p=2\" class=\"morelink\" rel=\"next\">More</a></td></tr>\n",
      "  </table>\n",
      "</td></tr>\n",
      "<tr><td><img src=\"s.gif\" height=\"10\" width=\"0\"><table width=\"100%\" cellspacing=\"0\" cellpadding=\"1\"><tr><td bgcolor=\"#ff6600\"></td></tr></table><br><center><span class=\"yclinks\"><a href=\"newsguidelines.html\">Guidelines</a>\n",
      "        | <a href=\"newsfaq.html\">FAQ</a>\n",
      "        | <a href=\"mailto:hn@ycombinator.com\">Support</a>\n",
      "        | <a href=\"https://github.com/HackerNews/API\">API</a>\n",
      "        | <a href=\"security.html\">Security</a>\n",
      "        | <a href=\"lists\">Lists</a>\n",
      "        | <a href=\"bookmarklet.html\" rel=\"nofollow\">Bookmarklet</a>\n",
      "        | <a href=\"http://www.ycombinator.com/legal/\">Legal</a>\n",
      "        | <a href=\"http://www.ycombinator.com/apply/\">Apply to YC</a>\n",
      "        | <a href=\"mailto:hn@ycombinator.com\">Contact</a></span><br><br><form method=\"get\" action=\"//hn.algolia.com/\">Search:\n",
      "          <input type=\"text\" name=\"q\" value=\"\" size=\"17\" autocorrect=\"off\" spellcheck=\"false\" autocapitalize=\"off\" autocomplete=\"false\"></form>\n",
      "            </center></td></tr>\n",
      "      </table></center></body><script type='text/javascript' src='hn.js?XGnn1zBuBfbN8crgQ4vB'></script></html>\n",
      "\n"
     ]
    }
   ],
   "source": [
    "import requests\n",
    "\n",
    "# Fetch a web page\n",
    "r = requests.get(\"https://news.ycombinator.com\")\n",
    "print(r.text)"
   ]
  },
  {
   "cell_type": "code",
   "execution_count": 5,
   "metadata": {},
   "outputs": [
    {
     "name": "stdout",
     "output_type": "stream",
     "text": [
      "\n",
      "        \n",
      "          \n",
      "        Hacker News\n",
      "        \n",
      "                  Hacker News\n",
      "              new | past | comments | ask | show | jobs | submit            \n",
      "                              login\n",
      "                          \n",
      "              \n",
      "\n",
      "              \n",
      "      1.      My Business Card Runs Linux (thirtythreeforty.net)\n",
      "        1183 points by rcarmo 7 hours ago  | hide | 192&nbsp;comments              \n",
      "      \n",
      "                \n",
      "      2.      A collection of various lists for hackers, pentesters and security researchers (github.com)\n",
      "        53 points by axiomdata316 1 hour ago  | hide | discuss              \n",
      "      \n",
      "                \n",
      "      3.      Why Multilingual People Have Healthier, More Engaged Brains (2016) (kqed.org)\n",
      "        40 points by respinal 1 hour ago  | hide | 18&nbsp;comments              \n",
      "      \n",
      "                \n",
      "      4.      Uber Founder Travis Kalanick Is Leaving the Company’s Board of Directors (techcrunch.com)\n",
      "        104 points by theBashShell 3 hours ago  | hide | 57&nbsp;comments              \n",
      "      \n",
      "                \n",
      "      5.      Minimalism – An undervalued development skill (volument.com)\n",
      "        204 points by tipiirai 5 hours ago  | hide | 72&nbsp;comments              \n",
      "      \n",
      "                \n",
      "      6.      A Twitter app bug was used to match 17M phone numbers to user accounts (techcrunch.com)\n",
      "        17 points by kkm 1 hour ago  | hide | 4&nbsp;comments              \n",
      "      \n",
      "                \n",
      "      7.      Flight stats, entertainment, and trying to crack Widevine (jonlu.ca)\n",
      "        77 points by jonluca 4 hours ago  | hide | 37&nbsp;comments              \n",
      "      \n",
      "                \n",
      "      8.      Open-source and the demise of proprietary software (timescale.com)\n",
      "        9 points by akulkarni 45 minutes ago  | hide | 1&nbsp;comment              \n",
      "      \n",
      "                \n",
      "      9.      Java JIT vs. Java AOT vs. Go for Small, Short-Lived Processes (macias.info)\n",
      "        79 points by robfig 5 hours ago  | hide | 44&nbsp;comments              \n",
      "      \n",
      "                \n",
      "      10.      Stock Option Pricing Inference (thomasvilhena.com)\n",
      "        39 points by tcgv 3 hours ago  | hide | 6&nbsp;comments              \n",
      "      \n",
      "                \n",
      "      11.      The Nightjet: A Big Bet on Train Travelers Who Take It Slow (nytimes.com)\n",
      "        14 points by CaliforniaKarl 1 hour ago  | hide | 11&nbsp;comments              \n",
      "      \n",
      "                \n",
      "      12.      A disastrous IT migration corrupted 1.3B customer records (increment.com)\n",
      "        263 points by fagnerbrack 12 hours ago  | hide | 153&nbsp;comments              \n",
      "      \n",
      "                \n",
      "      13.      Protobuffers Are Wrong (reasonablypolymorphic.com)\n",
      "        118 points by based2 5 hours ago  | hide | 99&nbsp;comments              \n",
      "      \n",
      "                \n",
      "      14.      Dutch university hit by cyber attack on its Windows systems (maastrichtuniversity.nl)\n",
      "        21 points by stepri 2 hours ago  | hide | 19&nbsp;comments              \n",
      "      \n",
      "                \n",
      "      15.      Why Aren't Shoes Preventing Running Injuries? (theatlantic.com)\n",
      "        39 points by luu 5 hours ago  | hide | 16&nbsp;comments              \n",
      "      \n",
      "                \n",
      "      16.      New discoveries set to reveal the geology of planets outside our solar system (phys.org)\n",
      "        20 points by dnetesn 4 hours ago  | hide | 3&nbsp;comments              \n",
      "      \n",
      "                \n",
      "      17.      A Breakthrough in Graph Theory – Numberphile [video] (youtube.com)\n",
      "        73 points by kgwxd 3 hours ago  | hide | 9&nbsp;comments              \n",
      "      \n",
      "                \n",
      "      18.      GiveCampus (YC S15) Is Hiring Engineers and Product in DC and SF (lever.co)\n",
      "        1 hour ago | hide      \n",
      "      \n",
      "                \n",
      "      19.      Things everyone in ML should know about belief formation in humans [video] (slideslive.com)\n",
      "        200 points by scribu 14 hours ago  | hide | 22&nbsp;comments              \n",
      "      \n",
      "                \n",
      "      20.      'Advertising breaks your spirit': the French cities trying to ban public adverts (theguardian.com)\n",
      "        20 points by Vinnl 48 minutes ago  | hide | 5&nbsp;comments              \n",
      "      \n",
      "                \n",
      "      21.      Social media bots often tweet fake health claims about cannabis (usc.edu)\n",
      "        79 points by happy-go-lucky 7 hours ago  | hide | 82&nbsp;comments              \n",
      "      \n",
      "                \n",
      "      22.      The Strange Properties and Histories of the Magic Hat (laphamsquarterly.org)\n",
      "        21 points by pepys 4 hours ago  | hide | 1&nbsp;comment              \n",
      "      \n",
      "                \n",
      "      23.      Flattening Quadratic Béziers (raphlinus.github.io)\n",
      "        5 points by jwmerrill 1 hour ago  | hide | discuss              \n",
      "      \n",
      "                \n",
      "      24.      Apis Cor builds world's largest 3D-printed building in Dubai (dezeen.com)\n",
      "        19 points by lelf 5 hours ago  | hide | 10&nbsp;comments              \n",
      "      \n",
      "                \n",
      "      25.      The Case Against Galileo (mathwithbaddrawings.com)\n",
      "        12 points by vo2maxer 3 hours ago  | hide | discuss              \n",
      "      \n",
      "                \n",
      "      26.      Russia 'successfully tests' its unplugged internet (bbc.com)\n",
      "        57 points by alexanderdmitri 3 hours ago  | hide | 31&nbsp;comments              \n",
      "      \n",
      "                \n",
      "      27.      Building a parachute is boggling (latimes.com)\n",
      "        72 points by pseudolus 12 hours ago  | hide | 11&nbsp;comments              \n",
      "      \n",
      "                \n",
      "      28.      Bushfires Release over Half Australia’s Annual Carbon Emissions (bloomberg.com)\n",
      "        61 points by pseudolus 6 hours ago  | hide | 29&nbsp;comments              \n",
      "      \n",
      "                \n",
      "      29.      How the U.S. betrayed the Marshall Islands, kindling the next nuclear disaster (latimes.com)\n",
      "        152 points by DyslexicAtheist 8 hours ago  | hide | 56&nbsp;comments              \n",
      "      \n",
      "                \n",
      "      30.      How to Ruin a Company with One Bad Process (2014) (a16z.com)\n",
      "        88 points by mooreds 8 hours ago  | hide | 13&nbsp;comments              \n",
      "      \n",
      "            More\n",
      "  \n",
      "\n",
      "Guidelines\n",
      "        | FAQ\n",
      "        | Support\n",
      "        | API\n",
      "        | Security\n",
      "        | Lists\n",
      "        | Bookmarklet\n",
      "        | Legal\n",
      "        | Apply to YC\n",
      "        | ContactSearch:\n",
      "          \n",
      "            \n",
      "      \n",
      "\n"
     ]
    }
   ],
   "source": [
    "import re\n",
    "\n",
    "# Remove HTML tags using RegEx\n",
    "pattern = re.compile(r'<.*?>')  # tags look like <...>\n",
    "print(pattern.sub('', r.text))  # replace them with blank"
   ]
  },
  {
   "cell_type": "code",
   "execution_count": 6,
   "metadata": {},
   "outputs": [
    {
     "name": "stdout",
     "output_type": "stream",
     "text": [
      "\n",
      "        \n",
      "          \n",
      "        Hacker News\n",
      "        \n",
      "                  Hacker News\n",
      "              new | past | comments | ask | show | jobs | submit            \n",
      "                              login\n",
      "                          \n",
      "              \n",
      "\n",
      "              \n",
      "      1.      My Business Card Runs Linux (thirtythreeforty.net)\n",
      "        1183 points by rcarmo 7 hours ago  | hide | 192 comments              \n",
      "      \n",
      "                \n",
      "      2.      A collection of various lists for hackers, pentesters and security researchers (github.com)\n",
      "        53 points by axiomdata316 1 hour ago  | hide | discuss              \n",
      "      \n",
      "                \n",
      "      3.      Why Multilingual People Have Healthier, More Engaged Brains (2016) (kqed.org)\n",
      "        40 points by respinal 1 hour ago  | hide | 18 comments              \n",
      "      \n",
      "                \n",
      "      4.      Uber Founder Travis Kalanick Is Leaving the Company’s Board of Directors (techcrunch.com)\n",
      "        104 points by theBashShell 3 hours ago  | hide | 57 comments              \n",
      "      \n",
      "                \n",
      "      5.      Minimalism – An undervalued development skill (volument.com)\n",
      "        204 points by tipiirai 5 hours ago  | hide | 72 comments              \n",
      "      \n",
      "                \n",
      "      6.      A Twitter app bug was used to match 17M phone numbers to user accounts (techcrunch.com)\n",
      "        17 points by kkm 1 hour ago  | hide | 4 comments              \n",
      "      \n",
      "                \n",
      "      7.      Flight stats, entertainment, and trying to crack Widevine (jonlu.ca)\n",
      "        77 points by jonluca 4 hours ago  | hide | 37 comments              \n",
      "      \n",
      "                \n",
      "      8.      Open-source and the demise of proprietary software (timescale.com)\n",
      "        9 points by akulkarni 45 minutes ago  | hide | 1 comment              \n",
      "      \n",
      "                \n",
      "      9.      Java JIT vs. Java AOT vs. Go for Small, Short-Lived Processes (macias.info)\n",
      "        79 points by robfig 5 hours ago  | hide | 44 comments              \n",
      "      \n",
      "                \n",
      "      10.      Stock Option Pricing Inference (thomasvilhena.com)\n",
      "        39 points by tcgv 3 hours ago  | hide | 6 comments              \n",
      "      \n",
      "                \n",
      "      11.      The Nightjet: A Big Bet on Train Travelers Who Take It Slow (nytimes.com)\n",
      "        14 points by CaliforniaKarl 1 hour ago  | hide | 11 comments              \n",
      "      \n",
      "                \n",
      "      12.      A disastrous IT migration corrupted 1.3B customer records (increment.com)\n",
      "        263 points by fagnerbrack 12 hours ago  | hide | 153 comments              \n",
      "      \n",
      "                \n",
      "      13.      Protobuffers Are Wrong (reasonablypolymorphic.com)\n",
      "        118 points by based2 5 hours ago  | hide | 99 comments              \n",
      "      \n",
      "                \n",
      "      14.      Dutch university hit by cyber attack on its Windows systems (maastrichtuniversity.nl)\n",
      "        21 points by stepri 2 hours ago  | hide | 19 comments              \n",
      "      \n",
      "                \n",
      "      15.      Why Aren't Shoes Preventing Running Injuries? (theatlantic.com)\n",
      "        39 points by luu 5 hours ago  | hide | 16 comments              \n",
      "      \n",
      "                \n",
      "      16.      New discoveries set to reveal the geology of planets outside our solar system (phys.org)\n",
      "        20 points by dnetesn 4 hours ago  | hide | 3 comments              \n",
      "      \n",
      "                \n",
      "      17.      A Breakthrough in Graph Theory – Numberphile [video] (youtube.com)\n",
      "        73 points by kgwxd 3 hours ago  | hide | 9 comments              \n",
      "      \n",
      "                \n",
      "      18.      GiveCampus (YC S15) Is Hiring Engineers and Product in DC and SF (lever.co)\n",
      "        1 hour ago | hide      \n",
      "      \n",
      "                \n",
      "      19.      Things everyone in ML should know about belief formation in humans [video] (slideslive.com)\n",
      "        200 points by scribu 14 hours ago  | hide | 22 comments              \n",
      "      \n",
      "                \n",
      "      20.      'Advertising breaks your spirit': the French cities trying to ban public adverts (theguardian.com)\n",
      "        20 points by Vinnl 48 minutes ago  | hide | 5 comments              \n",
      "      \n",
      "                \n",
      "      21.      Social media bots often tweet fake health claims about cannabis (usc.edu)\n",
      "        79 points by happy-go-lucky 7 hours ago  | hide | 82 comments              \n",
      "      \n",
      "                \n",
      "      22.      The Strange Properties and Histories of the Magic Hat (laphamsquarterly.org)\n",
      "        21 points by pepys 4 hours ago  | hide | 1 comment              \n",
      "      \n",
      "                \n",
      "      23.      Flattening Quadratic Béziers (raphlinus.github.io)\n",
      "        5 points by jwmerrill 1 hour ago  | hide | discuss              \n",
      "      \n",
      "                \n",
      "      24.      Apis Cor builds world's largest 3D-printed building in Dubai (dezeen.com)\n",
      "        19 points by lelf 5 hours ago  | hide | 10 comments              \n",
      "      \n",
      "                \n",
      "      25.      The Case Against Galileo (mathwithbaddrawings.com)\n",
      "        12 points by vo2maxer 3 hours ago  | hide | discuss              \n",
      "      \n",
      "                \n",
      "      26.      Russia 'successfully tests' its unplugged internet (bbc.com)\n",
      "        57 points by alexanderdmitri 3 hours ago  | hide | 31 comments              \n",
      "      \n",
      "                \n",
      "      27.      Building a parachute is boggling (latimes.com)\n",
      "        72 points by pseudolus 12 hours ago  | hide | 11 comments              \n",
      "      \n",
      "                \n",
      "      28.      Bushfires Release over Half Australia’s Annual Carbon Emissions (bloomberg.com)\n",
      "        61 points by pseudolus 6 hours ago  | hide | 29 comments              \n",
      "      \n",
      "                \n",
      "      29.      How the U.S. betrayed the Marshall Islands, kindling the next nuclear disaster (latimes.com)\n",
      "        152 points by DyslexicAtheist 8 hours ago  | hide | 56 comments              \n",
      "      \n",
      "                \n",
      "      30.      How to Ruin a Company with One Bad Process (2014) (a16z.com)\n",
      "        88 points by mooreds 8 hours ago  | hide | 13 comments              \n",
      "      \n",
      "            More\n",
      "  \n",
      "\n",
      "Guidelines\n",
      "        | FAQ\n",
      "        | Support\n",
      "        | API\n",
      "        | Security\n",
      "        | Lists\n",
      "        | Bookmarklet\n",
      "        | Legal\n",
      "        | Apply to YC\n",
      "        | ContactSearch:\n",
      "          \n",
      "            \n",
      "      \n",
      "\n"
     ]
    }
   ],
   "source": [
    "from bs4 import BeautifulSoup\n",
    "\n",
    "# Remove HTML tags using Beautiful Soup library\n",
    "soup = BeautifulSoup(r.text, \"html5lib\")\n",
    "print(soup.get_text())"
   ]
  },
  {
   "cell_type": "code",
   "execution_count": 7,
   "metadata": {
    "scrolled": true
   },
   "outputs": [
    {
     "data": {
      "text/plain": [
       "<tr class=\"athing\" id=\"21871026\">\n",
       "      <td align=\"right\" class=\"title\" valign=\"top\"><span class=\"rank\">1.</span></td>      <td class=\"votelinks\" valign=\"top\"><center><a href=\"vote?id=21871026&amp;how=up&amp;goto=news\" id=\"up_21871026\"><div class=\"votearrow\" title=\"upvote\"></div></a></center></td><td class=\"title\"><a class=\"storylink\" href=\"https://www.thirtythreeforty.net/posts/2019/12/my-business-card-runs-linux/\">My Business Card Runs Linux</a><span class=\"sitebit comhead\"> (<a href=\"from?site=thirtythreeforty.net\"><span class=\"sitestr\">thirtythreeforty.net</span></a>)</span></td></tr>"
      ]
     },
     "execution_count": 7,
     "metadata": {},
     "output_type": "execute_result"
    }
   ],
   "source": [
    "# Find all articles\n",
    "summaries = soup.find_all(\"tr\", class_=\"athing\")\n",
    "summaries[0]"
   ]
  },
  {
   "cell_type": "code",
   "execution_count": 8,
   "metadata": {},
   "outputs": [
    {
     "data": {
      "text/plain": [
       "'My Business Card Runs Linux'"
      ]
     },
     "execution_count": 8,
     "metadata": {},
     "output_type": "execute_result"
    }
   ],
   "source": [
    "# Extract title\n",
    "summaries[0].find(\"a\", class_=\"storylink\").get_text().strip()"
   ]
  },
  {
   "cell_type": "code",
   "execution_count": 9,
   "metadata": {},
   "outputs": [
    {
     "name": "stdout",
     "output_type": "stream",
     "text": [
      "30 Article summaries found. Sample:\n",
      "My Business Card Runs Linux\n"
     ]
    }
   ],
   "source": [
    "# Find all articles, extract titles\n",
    "articles = []\n",
    "summaries = soup.find_all(\"tr\", class_=\"athing\")\n",
    "for summary in summaries:\n",
    "    title = summary.find(\"a\", class_=\"storylink\").get_text().strip()\n",
    "    articles.append((title))\n",
    "\n",
    "print(len(articles), \"Article summaries found. Sample:\")\n",
    "print(articles[0])"
   ]
  },
  {
   "cell_type": "markdown",
   "metadata": {
    "collapsed": true
   },
   "source": [
    "## Normalization"
   ]
  },
  {
   "cell_type": "markdown",
   "metadata": {},
   "source": [
    "### Case Normalization"
   ]
  },
  {
   "cell_type": "code",
   "execution_count": 10,
   "metadata": {},
   "outputs": [
    {
     "name": "stdout",
     "output_type": "stream",
     "text": [
      "The first time you see The Second Renaissance it may look boring. Look at it at least twice and definitely watch part 2. It will change your view of the matrix. Are the human people the ones who started the war ? Is AI a bad thing ?\n"
     ]
    }
   ],
   "source": [
    "# Sample text\n",
    "text = \"The first time you see The Second Renaissance it may look boring. Look at it at least twice and definitely watch part 2. It will change your view of the matrix. Are the human people the ones who started the war ? Is AI a bad thing ?\"\n",
    "print(text)"
   ]
  },
  {
   "cell_type": "code",
   "execution_count": 11,
   "metadata": {},
   "outputs": [
    {
     "name": "stdout",
     "output_type": "stream",
     "text": [
      "the first time you see the second renaissance it may look boring. look at it at least twice and definitely watch part 2. it will change your view of the matrix. are the human people the ones who started the war ? is ai a bad thing ?\n"
     ]
    }
   ],
   "source": [
    "# Convert to lowercase\n",
    "text = text.lower() \n",
    "print(text)"
   ]
  },
  {
   "cell_type": "markdown",
   "metadata": {},
   "source": [
    "### Punctuation Removal"
   ]
  },
  {
   "cell_type": "code",
   "execution_count": 12,
   "metadata": {},
   "outputs": [
    {
     "name": "stdout",
     "output_type": "stream",
     "text": [
      "the first time you see the second renaissance it may look boring  look at it at least twice and definitely watch part 2  it will change your view of the matrix  are the human people the ones who started the war   is ai a bad thing  \n"
     ]
    }
   ],
   "source": [
    "import re\n",
    "\n",
    "# Remove punctuation characters\n",
    "text = re.sub(r\"[^a-zA-Z0-9]\", \" \", text) \n",
    "print(text)"
   ]
  },
  {
   "cell_type": "markdown",
   "metadata": {},
   "source": [
    "## Tokenization"
   ]
  },
  {
   "cell_type": "code",
   "execution_count": 13,
   "metadata": {},
   "outputs": [
    {
     "name": "stdout",
     "output_type": "stream",
     "text": [
      "['the', 'first', 'time', 'you', 'see', 'the', 'second', 'renaissance', 'it', 'may', 'look', 'boring', 'look', 'at', 'it', 'at', 'least', 'twice', 'and', 'definitely', 'watch', 'part', '2', 'it', 'will', 'change', 'your', 'view', 'of', 'the', 'matrix', 'are', 'the', 'human', 'people', 'the', 'ones', 'who', 'started', 'the', 'war', 'is', 'ai', 'a', 'bad', 'thing']\n"
     ]
    }
   ],
   "source": [
    "# Split text into tokens (words)\n",
    "words = text.split()\n",
    "print(words)"
   ]
  },
  {
   "cell_type": "markdown",
   "metadata": {},
   "source": [
    "### NLTK: Natural Language ToolKit"
   ]
  },
  {
   "cell_type": "code",
   "execution_count": 14,
   "metadata": {},
   "outputs": [],
   "source": [
    "import os\n",
    "import nltk\n",
    "nltk.data.path.append(os.path.join(os.getcwd(), \"nltk_data\"))"
   ]
  },
  {
   "cell_type": "code",
   "execution_count": 15,
   "metadata": {},
   "outputs": [
    {
     "name": "stdout",
     "output_type": "stream",
     "text": [
      "Dr. Smith graduated from the University of Washington. He later started an analytics firm called Lux, which catered to enterprise customers.\n"
     ]
    }
   ],
   "source": [
    "# Another sample text\n",
    "text = \"Dr. Smith graduated from the University of Washington. He later started an analytics firm called Lux, which catered to enterprise customers.\"\n",
    "print(text)"
   ]
  },
  {
   "cell_type": "code",
   "execution_count": 16,
   "metadata": {},
   "outputs": [
    {
     "name": "stdout",
     "output_type": "stream",
     "text": [
      "['Dr.', 'Smith', 'graduated', 'from', 'the', 'University', 'of', 'Washington', '.', 'He', 'later', 'started', 'an', 'analytics', 'firm', 'called', 'Lux', ',', 'which', 'catered', 'to', 'enterprise', 'customers', '.']\n"
     ]
    }
   ],
   "source": [
    "from nltk.tokenize import word_tokenize\n",
    "\n",
    "# Split text into words using NLTK\n",
    "words = word_tokenize(text)\n",
    "print(words)"
   ]
  },
  {
   "cell_type": "code",
   "execution_count": 17,
   "metadata": {},
   "outputs": [
    {
     "name": "stdout",
     "output_type": "stream",
     "text": [
      "['Dr. Smith graduated from the University of Washington.', 'He later started an analytics firm called Lux, which catered to enterprise customers.']\n"
     ]
    }
   ],
   "source": [
    "from nltk.tokenize import sent_tokenize\n",
    "\n",
    "# Split text into sentences\n",
    "sentences = sent_tokenize(text)\n",
    "print(sentences)"
   ]
  },
  {
   "cell_type": "code",
   "execution_count": 18,
   "metadata": {},
   "outputs": [
    {
     "name": "stdout",
     "output_type": "stream",
     "text": [
      "['i', 'me', 'my', 'myself', 'we', 'our', 'ours', 'ourselves', 'you', \"you're\", \"you've\", \"you'll\", \"you'd\", 'your', 'yours', 'yourself', 'yourselves', 'he', 'him', 'his', 'himself', 'she', \"she's\", 'her', 'hers', 'herself', 'it', \"it's\", 'its', 'itself', 'they', 'them', 'their', 'theirs', 'themselves', 'what', 'which', 'who', 'whom', 'this', 'that', \"that'll\", 'these', 'those', 'am', 'is', 'are', 'was', 'were', 'be', 'been', 'being', 'have', 'has', 'had', 'having', 'do', 'does', 'did', 'doing', 'a', 'an', 'the', 'and', 'but', 'if', 'or', 'because', 'as', 'until', 'while', 'of', 'at', 'by', 'for', 'with', 'about', 'against', 'between', 'into', 'through', 'during', 'before', 'after', 'above', 'below', 'to', 'from', 'up', 'down', 'in', 'out', 'on', 'off', 'over', 'under', 'again', 'further', 'then', 'once', 'here', 'there', 'when', 'where', 'why', 'how', 'all', 'any', 'both', 'each', 'few', 'more', 'most', 'other', 'some', 'such', 'no', 'nor', 'not', 'only', 'own', 'same', 'so', 'than', 'too', 'very', 's', 't', 'can', 'will', 'just', 'don', \"don't\", 'should', \"should've\", 'now', 'd', 'll', 'm', 'o', 're', 've', 'y', 'ain', 'aren', \"aren't\", 'couldn', \"couldn't\", 'didn', \"didn't\", 'doesn', \"doesn't\", 'hadn', \"hadn't\", 'hasn', \"hasn't\", 'haven', \"haven't\", 'isn', \"isn't\", 'ma', 'mightn', \"mightn't\", 'mustn', \"mustn't\", 'needn', \"needn't\", 'shan', \"shan't\", 'shouldn', \"shouldn't\", 'wasn', \"wasn't\", 'weren', \"weren't\", 'won', \"won't\", 'wouldn', \"wouldn't\"]\n"
     ]
    }
   ],
   "source": [
    "# List stop words\n",
    "from nltk.corpus import stopwords\n",
    "print(stopwords.words(\"english\"))"
   ]
  },
  {
   "cell_type": "code",
   "execution_count": 19,
   "metadata": {},
   "outputs": [
    {
     "name": "stdout",
     "output_type": "stream",
     "text": [
      "['the', 'first', 'time', 'you', 'see', 'the', 'second', 'renaissance', 'it', 'may', 'look', 'boring', 'look', 'at', 'it', 'at', 'least', 'twice', 'and', 'definitely', 'watch', 'part', '2', 'it', 'will', 'change', 'your', 'view', 'of', 'the', 'matrix', 'are', 'the', 'human', 'people', 'the', 'ones', 'who', 'started', 'the', 'war', 'is', 'ai', 'a', 'bad', 'thing']\n"
     ]
    }
   ],
   "source": [
    "# Reset text\n",
    "text = \"The first time you see The Second Renaissance it may look boring. Look at it at least twice and definitely watch part 2. It will change your view of the matrix. Are the human people the ones who started the war ? Is AI a bad thing ?\"\n",
    "\n",
    "# Normalize it\n",
    "text = re.sub(r\"[^a-zA-Z0-9]\", \" \", text.lower())\n",
    "\n",
    "# Tokenize it\n",
    "words = text.split()\n",
    "print(words)"
   ]
  },
  {
   "cell_type": "code",
   "execution_count": 20,
   "metadata": {},
   "outputs": [
    {
     "name": "stdout",
     "output_type": "stream",
     "text": [
      "['first', 'time', 'see', 'second', 'renaissance', 'may', 'look', 'boring', 'look', 'least', 'twice', 'definitely', 'watch', 'part', '2', 'change', 'view', 'matrix', 'human', 'people', 'ones', 'started', 'war', 'ai', 'bad', 'thing']\n"
     ]
    }
   ],
   "source": [
    "# Remove stop words\n",
    "words = [w for w in words if w not in stopwords.words(\"english\")]\n",
    "print(words)"
   ]
  },
  {
   "cell_type": "markdown",
   "metadata": {},
   "source": [
    "### Sentence Parsing"
   ]
  },
  {
   "cell_type": "code",
   "execution_count": 21,
   "metadata": {},
   "outputs": [
    {
     "name": "stdout",
     "output_type": "stream",
     "text": [
      "(S\n",
      "  (NP I)\n",
      "  (VP\n",
      "    (VP (V shot) (NP (Det an) (N elephant)))\n",
      "    (PP (P in) (NP (Det my) (N pajamas)))))\n",
      "(S\n",
      "  (NP I)\n",
      "  (VP\n",
      "    (V shot)\n",
      "    (NP (Det an) (N elephant) (PP (P in) (NP (Det my) (N pajamas))))))\n"
     ]
    }
   ],
   "source": [
    "import nltk\n",
    "\n",
    "# Define a custom grammar\n",
    "my_grammar = nltk.CFG.fromstring(\"\"\"\n",
    "S -> NP VP\n",
    "PP -> P NP\n",
    "NP -> Det N | Det N PP | 'I'\n",
    "VP -> V NP | VP PP\n",
    "Det -> 'an' | 'my'\n",
    "N -> 'elephant' | 'pajamas'\n",
    "V -> 'shot'\n",
    "P -> 'in'\n",
    "\"\"\")\n",
    "parser = nltk.ChartParser(my_grammar)\n",
    "\n",
    "# Parse a sentence\n",
    "sentence = word_tokenize(\"I shot an elephant in my pajamas\")\n",
    "for tree in parser.parse(sentence):\n",
    "    print(tree)"
   ]
  },
  {
   "cell_type": "markdown",
   "metadata": {},
   "source": [
    "## Stemming & Lemmatization\n",
    "\n",
    "### Stemming"
   ]
  },
  {
   "cell_type": "code",
   "execution_count": 22,
   "metadata": {},
   "outputs": [
    {
     "name": "stdout",
     "output_type": "stream",
     "text": [
      "['first', 'time', 'see', 'second', 'renaiss', 'may', 'look', 'bore', 'look', 'least', 'twice', 'definit', 'watch', 'part', '2', 'chang', 'view', 'matrix', 'human', 'peopl', 'one', 'start', 'war', 'ai', 'bad', 'thing']\n"
     ]
    }
   ],
   "source": [
    "from nltk.stem.porter import PorterStemmer\n",
    "\n",
    "# Reduce words to their stems\n",
    "stemmed = [PorterStemmer().stem(w) for w in words]\n",
    "print(stemmed)"
   ]
  },
  {
   "cell_type": "markdown",
   "metadata": {},
   "source": [
    "### Lemmatization"
   ]
  },
  {
   "cell_type": "code",
   "execution_count": 23,
   "metadata": {},
   "outputs": [
    {
     "name": "stdout",
     "output_type": "stream",
     "text": [
      "['first', 'time', 'see', 'second', 'renaissance', 'may', 'look', 'boring', 'look', 'least', 'twice', 'definitely', 'watch', 'part', '2', 'change', 'view', 'matrix', 'human', 'people', 'one', 'started', 'war', 'ai', 'bad', 'thing']\n"
     ]
    }
   ],
   "source": [
    "from nltk.stem.wordnet import WordNetLemmatizer\n",
    "\n",
    "# Reduce words to their root form\n",
    "lemmed = [WordNetLemmatizer().lemmatize(w) for w in words]\n",
    "print(lemmed)"
   ]
  },
  {
   "cell_type": "code",
   "execution_count": 24,
   "metadata": {},
   "outputs": [
    {
     "name": "stdout",
     "output_type": "stream",
     "text": [
      "['first', 'time', 'see', 'second', 'renaissance', 'may', 'look', 'bore', 'look', 'least', 'twice', 'definitely', 'watch', 'part', '2', 'change', 'view', 'matrix', 'human', 'people', 'one', 'start', 'war', 'ai', 'bad', 'thing']\n"
     ]
    }
   ],
   "source": [
    "# Lemmatize verbs by specifying pos\n",
    "lemmed = [WordNetLemmatizer().lemmatize(w, pos='v') for w in lemmed]\n",
    "print(lemmed)"
   ]
  },
  {
   "cell_type": "code",
   "execution_count": null,
   "metadata": {},
   "outputs": [],
   "source": []
  }
 ],
 "metadata": {
  "kernelspec": {
   "display_name": "Python 3",
   "language": "python",
   "name": "python3"
  },
  "language_info": {
   "codemirror_mode": {
    "name": "ipython",
    "version": 3
   },
   "file_extension": ".py",
   "mimetype": "text/x-python",
   "name": "python",
   "nbconvert_exporter": "python",
   "pygments_lexer": "ipython3",
   "version": "3.5.4"
  }
 },
 "nbformat": 4,
 "nbformat_minor": 2
}
